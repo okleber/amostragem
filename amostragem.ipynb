{
 "cells": [
  {
   "cell_type": "code",
   "execution_count": 5,
   "metadata": {
    "collapsed": false
   },
   "outputs": [],
   "source": [
    "import math"
   ]
  },
  {
   "cell_type": "code",
   "execution_count": 14,
   "metadata": {
    "collapsed": false
   },
   "outputs": [],
   "source": [
    "def raiz(n,y=2):\n",
    "    return math.sqrt(n)\n",
    "\n",
    "def desv_pad_media_amostral_finita(S,N,n):\n",
    "    return (S/raiz(n))*raiz((N-n)/(N-1))\n",
    "\n",
    "def desv_pad_media_amostral_infinita(S,N,n):\n",
    "    return (S/raiz(n))\n"
   ]
  },
  {
   "cell_type": "code",
   "execution_count": null,
   "metadata": {
    "collapsed": true
   },
   "outputs": [],
   "source": []
  },
  {
   "cell_type": "code",
   "execution_count": 15,
   "metadata": {
    "collapsed": false
   },
   "outputs": [
    {
     "name": "stdout",
     "output_type": "stream",
     "text": [
      "Digite valor de S, desvio padrão de 1 amostra\n",
      "12\n",
      "Digite valor de N, tamanho da população\n",
      "0\n",
      "Digite valor de n, elementos amostrais\n",
      "2000\n"
     ]
    },
    {
     "data": {
      "text/plain": [
       "0.2683281572999747"
      ]
     },
     "execution_count": 15,
     "metadata": {},
     "output_type": "execute_result"
    }
   ],
   "source": [
    "print \"Digite valor de S, desvio padrão de 1 amostra\"\n",
    "S=float(raw_input())\n",
    "print \"Digite valor de N, tamanho da população\"\n",
    "N=float(raw_input())\n",
    "print \"Digite valor de n, elementos amostrais\"\n",
    "n=float(raw_input())\n",
    "desv_pad_media_amostral_infinita(S,N,n)"
   ]
  },
  {
   "cell_type": "code",
   "execution_count": null,
   "metadata": {
    "collapsed": true
   },
   "outputs": [],
   "source": []
  }
 ],
 "metadata": {
  "kernelspec": {
   "display_name": "Python 2",
   "language": "python",
   "name": "python2"
  },
  "language_info": {
   "codemirror_mode": {
    "name": "ipython",
    "version": 2
   },
   "file_extension": ".py",
   "mimetype": "text/x-python",
   "name": "python",
   "nbconvert_exporter": "python",
   "pygments_lexer": "ipython2",
   "version": "2.7.9"
  }
 },
 "nbformat": 4,
 "nbformat_minor": 0
}
